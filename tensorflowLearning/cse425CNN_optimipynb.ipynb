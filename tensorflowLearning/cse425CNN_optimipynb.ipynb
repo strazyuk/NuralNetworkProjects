{
 "cells": [
  {
   "cell_type": "code",
   "execution_count": 19,
   "id": "2f3ac448",
   "metadata": {},
   "outputs": [],
   "source": [
    "import torch\n",
    "import torch.nn as nn\n",
    "import torch_optimizer as optim_look  # Using RAdam\n",
    "from torch.utils.data import DataLoader\n",
    "import torchvision.transforms as transforms\n",
    "import torchvision.datasets as datasets\n",
    "\n",
    "import numpy as np\n",
    "from sklearn.cluster import MiniBatchKMeans\n",
    "from sklearn.metrics import silhouette_score, davies_bouldin_score, calinski_harabasz_score\n",
    "from sklearn.preprocessing import normalize\n",
    "from sklearn.decomposition import PCA\n",
    "import matplotlib.pyplot as plt"
   ]
  },
  {
   "cell_type": "code",
   "execution_count": 20,
   "id": "3a32128d",
   "metadata": {},
   "outputs": [],
   "source": [
    "class Autoencoder(nn.Module):\n",
    "    def __init__(self, input_dim=784, latent_dim=64):\n",
    "        super(Autoencoder, self).__init__()\n",
    "        self.encoder = nn.Sequential(\n",
    "            nn.Linear(input_dim, 512),\n",
    "            nn.BatchNorm1d(512),\n",
    "            nn.ReLU(),\n",
    "            nn.Linear(512, 256),\n",
    "            nn.BatchNorm1d(256),\n",
    "            nn.ReLU(),\n",
    "            nn.Linear(256, latent_dim),\n",
    "            nn.Tanh()\n",
    "        )\n",
    "        self.decoder = nn.Sequential(\n",
    "            nn.Linear(latent_dim, 256),\n",
    "            nn.BatchNorm1d(256),\n",
    "            nn.ReLU(),\n",
    "            nn.Linear(256, 512),\n",
    "            nn.BatchNorm1d(512),\n",
    "            nn.ReLU(),\n",
    "            nn.Linear(512, input_dim),\n",
    "            nn.Sigmoid()\n",
    "        )\n",
    "\n",
    "    def forward(self, x):\n",
    "        z = self.encoder(x)\n",
    "        return self.decoder(z)\n",
    "\n",
    "    def embed(self, x):\n",
    "        return self.encoder(x)\n"
   ]
  },
  {
   "cell_type": "code",
   "execution_count": 21,
   "id": "9b859b03",
   "metadata": {},
   "outputs": [],
   "source": [
    "input_size = 784\n",
    "latent_size = 64\n",
    "learning_rate = 0.001\n",
    "batch_size = 256\n",
    "epochs = 20"
   ]
  },
  {
   "cell_type": "code",
   "execution_count": 22,
   "id": "91738fdd",
   "metadata": {},
   "outputs": [],
   "source": [
    "transform = transforms.Compose([\n",
    "    transforms.ToTensor(),\n",
    "    transforms.Lambda(lambda x: x.view(-1))\n",
    "])\n",
    "\n",
    "train_dataset = datasets.MNIST(root='./data', train=True, transform=transform, download=True)\n",
    "train_loader = DataLoader(train_dataset, batch_size=batch_size, shuffle=True)"
   ]
  },
  {
   "cell_type": "code",
   "execution_count": 23,
   "id": "6c392a76",
   "metadata": {},
   "outputs": [],
   "source": [
    "device = torch.device(\"cuda\" if torch.cuda.is_available() else \"cpu\")\n",
    "model = Autoencoder(input_size, latent_size).to(device)\n",
    "criterion = nn.SmoothL1Loss()  # Changed from MSELoss\n",
    "optimizer = optim_look.RAdam(model.parameters(), lr=learning_rate, weight_decay=1e-5)\n",
    "scheduler = torch.optim.lr_scheduler.CosineAnnealingLR(optimizer, T_max=epochs)"
   ]
  },
  {
   "cell_type": "code",
   "execution_count": 24,
   "id": "f91d9deb",
   "metadata": {},
   "outputs": [
    {
     "name": "stdout",
     "output_type": "stream",
     "text": [
      "Epoch [1/20] - Loss: 0.0391\n",
      "Epoch [2/20] - Loss: 0.0106\n",
      "Epoch [3/20] - Loss: 0.0066\n",
      "Epoch [4/20] - Loss: 0.0049\n",
      "Epoch [5/20] - Loss: 0.0041\n",
      "Epoch [6/20] - Loss: 0.0035\n",
      "Epoch [7/20] - Loss: 0.0032\n",
      "Epoch [8/20] - Loss: 0.0029\n",
      "Epoch [9/20] - Loss: 0.0027\n",
      "Epoch [10/20] - Loss: 0.0026\n",
      "Epoch [11/20] - Loss: 0.0024\n",
      "Epoch [12/20] - Loss: 0.0023\n",
      "Epoch [13/20] - Loss: 0.0023\n",
      "Epoch [14/20] - Loss: 0.0022\n",
      "Epoch [15/20] - Loss: 0.0021\n",
      "Epoch [16/20] - Loss: 0.0021\n",
      "Epoch [17/20] - Loss: 0.0020\n",
      "Epoch [18/20] - Loss: 0.0020\n",
      "Epoch [19/20] - Loss: 0.0020\n",
      "Epoch [20/20] - Loss: 0.0020\n"
     ]
    }
   ],
   "source": [
    "patience = 3\n",
    "best_loss = float('inf')\n",
    "no_improvement_epochs = 0\n",
    "model.train()\n",
    "for epoch in range(epochs):\n",
    "    total_loss = 0\n",
    "    for data, _ in train_loader:\n",
    "        data = data.to(device)\n",
    "        recon = model(data)\n",
    "        loss = criterion(recon, data)\n",
    "\n",
    "        optimizer.zero_grad()\n",
    "        loss.backward()\n",
    "        optimizer.step()\n",
    "        total_loss += loss.item()\n",
    "\n",
    "    scheduler.step()\n",
    "    avg_loss = total_loss / len(train_loader)\n",
    "    print(f\"Epoch [{epoch + 1}/{epochs}] - Loss: {avg_loss:.4f}\")\n",
    "    if avg_loss < best_loss:\n",
    "        best_loss = avg_loss\n",
    "        torch.save(model.state_dict(), \"best_autoencoder.pth\")\n",
    "        no_improvement_epochs = 0  # Reset counter\n",
    "    else:\n",
    "        no_improvement_epochs += 1\n",
    "\n",
    "    if no_improvement_epochs >= patience:\n",
    "        print(\"Early stopping triggered.\")\n",
    "        break"
   ]
  },
  {
   "cell_type": "code",
   "execution_count": null,
   "id": "d14f4004",
   "metadata": {},
   "outputs": [],
   "source": [
    "model.load_state_dict(torch.load(\"best_autoencoder.pth\"))\n",
    "model.eval()\n",
    "\n",
    "all_embeddings = []\n",
    "all_labels = []\n",
    "with torch.no_grad():\n",
    "    for data, labels in train_loader:\n",
    "        data = data.to(device)\n",
    "        embeddings = model.embed(data)\n",
    "        all_embeddings.append(embeddings.cpu().numpy())\n",
    "        all_labels.append(labels.numpy())\n",
    "\n",
    "X = np.vstack(all_embeddings)\n",
    "y = np.hstack(all_labels)"
   ]
  },
  {
   "cell_type": "code",
   "execution_count": null,
   "id": "0efcc0ba",
   "metadata": {},
   "outputs": [],
   "source": [
    "X_norm = normalize(X)"
   ]
  },
  {
   "cell_type": "code",
   "execution_count": null,
   "id": "5545928e",
   "metadata": {},
   "outputs": [],
   "source": [
    "kmeans = MiniBatchKMeans(n_clusters=10, batch_size=1024, random_state=42)\n",
    "clusters = kmeans.fit_predict(X_norm)"
   ]
  },
  {
   "cell_type": "code",
   "execution_count": null,
   "id": "c08e0efc",
   "metadata": {},
   "outputs": [],
   "source": [
    "# 1. Silhouette Score\n",
    "sil_score = silhouette_score(X_norm, clusters)\n",
    "print(f\"\\nSilhouette Score: {sil_score:.4f}\")\n",
    "\n",
    "# 2. Davies-Bouldin Index\n",
    "db_index = davies_bouldin_score(X_norm, clusters)\n",
    "print(f\"Davies-Bouldin Index: {db_index:.4f}\")\n",
    "\n",
    "# 3. Calinski-Harabasz Index\n",
    "ch_index = calinski_harabasz_score(X_norm, clusters)\n",
    "print(f\"Calinski-Harabasz Index: {ch_index:.4f}\")\n",
    "\n",
    "# 4. Visual clustering in 2D using PCA\n",
    "pca = PCA(n_components=2)\n",
    "X_pca = pca.fit_transform(X_norm)"
   ]
  },
  {
   "cell_type": "code",
   "execution_count": null,
   "id": "a37aa8b9",
   "metadata": {},
   "outputs": [],
   "source": [
    "plt.figure(figsize=(8, 6))\n",
    "plt.scatter(X_pca[:, 0], X_pca[:, 1], c=clusters, cmap='tab10', s=10)\n",
    "plt.title(\"Cluster Visualization (PCA Projection)\")\n",
    "plt.xlabel(\"Principal Component 1\")\n",
    "plt.ylabel(\"Principal Component 2\")\n",
    "plt.colorbar()\n",
    "plt.show()\n",
    "\n",
    "# 5. Evaluate with Actual Labels (not as a metric, but visualization aid)\n",
    "plt.figure(figsize=(8, 6))\n",
    "plt.scatter(X_pca[:, 0], X_pca[:, 1], c=y, cmap='tab10', s=10)\n",
    "plt.title(\"Ground Truth Labels (PCA Projection)\")\n",
    "plt.xlabel(\"Principal Component 1\")\n",
    "plt.ylabel(\"Principal Component 2\")\n",
    "plt.colorba"
   ]
  }
 ],
 "metadata": {
  "kernelspec": {
   "display_name": "Python 3",
   "language": "python",
   "name": "python3"
  },
  "language_info": {
   "codemirror_mode": {
    "name": "ipython",
    "version": 3
   },
   "file_extension": ".py",
   "mimetype": "text/x-python",
   "name": "python",
   "nbconvert_exporter": "python",
   "pygments_lexer": "ipython3",
   "version": "3.12.6"
  }
 },
 "nbformat": 4,
 "nbformat_minor": 5
}
