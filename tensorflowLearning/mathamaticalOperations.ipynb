{
 "cells": [
  {
   "cell_type": "code",
   "execution_count": 8,
   "id": "f78b39b6",
   "metadata": {},
   "outputs": [],
   "source": [
    "import numpy as np\n",
    "import pandas as pd\n",
    "from matplotlib import pyplot as plt "
   ]
  },
  {
   "cell_type": "code",
   "execution_count": 2,
   "id": "a4781c50",
   "metadata": {},
   "outputs": [],
   "source": [
    "revenue=np.array([[100,200,220],[24,36,48],[12,18,20]])\n",
    "expenses=np.array([[80,90,100],[10,16,20],[8,10,10]])"
   ]
  },
  {
   "cell_type": "code",
   "execution_count": 3,
   "id": "76a75590",
   "metadata": {},
   "outputs": [
    {
     "data": {
      "text/plain": [
       "array([[ 20, 110, 120],\n",
       "       [ 14,  20,  28],\n",
       "       [  4,   8,  10]])"
      ]
     },
     "execution_count": 3,
     "metadata": {},
     "output_type": "execute_result"
    }
   ],
   "source": [
    "profit=revenue-expenses\n",
    "profit"
   ]
  },
  {
   "cell_type": "code",
   "execution_count": 4,
   "id": "01f8ac28",
   "metadata": {},
   "outputs": [],
   "source": [
    "price_per_unit=np.array([1000,400,1200])\n",
    "units=np.array([[30,40,50],[5,10,15],[2,5,7]])"
   ]
  },
  {
   "cell_type": "code",
   "execution_count": 9,
   "id": "bdeafffd",
   "metadata": {},
   "outputs": [
    {
     "data": {
      "text/html": [
       "<div>\n",
       "<style scoped>\n",
       "    .dataframe tbody tr th:only-of-type {\n",
       "        vertical-align: middle;\n",
       "    }\n",
       "\n",
       "    .dataframe tbody tr th {\n",
       "        vertical-align: top;\n",
       "    }\n",
       "\n",
       "    .dataframe thead th {\n",
       "        text-align: right;\n",
       "    }\n",
       "</style>\n",
       "<table border=\"1\" class=\"dataframe\">\n",
       "  <thead>\n",
       "    <tr style=\"text-align: right;\">\n",
       "      <th></th>\n",
       "      <th>area</th>\n",
       "      <th>bedrooms</th>\n",
       "      <th>price</th>\n",
       "    </tr>\n",
       "  </thead>\n",
       "  <tbody>\n",
       "    <tr>\n",
       "      <th>0</th>\n",
       "      <td>1056.0</td>\n",
       "      <td>2.0</td>\n",
       "      <td>39.07</td>\n",
       "    </tr>\n",
       "    <tr>\n",
       "      <th>1</th>\n",
       "      <td>2600.0</td>\n",
       "      <td>4.0</td>\n",
       "      <td>120.00</td>\n",
       "    </tr>\n",
       "    <tr>\n",
       "      <th>2</th>\n",
       "      <td>1440.0</td>\n",
       "      <td>3.0</td>\n",
       "      <td>62.00</td>\n",
       "    </tr>\n",
       "    <tr>\n",
       "      <th>3</th>\n",
       "      <td>1521.0</td>\n",
       "      <td>3.0</td>\n",
       "      <td>75.00</td>\n",
       "    </tr>\n",
       "    <tr>\n",
       "      <th>4</th>\n",
       "      <td>1200.0</td>\n",
       "      <td>2.0</td>\n",
       "      <td>51.00</td>\n",
       "    </tr>\n",
       "    <tr>\n",
       "      <th>5</th>\n",
       "      <td>1170.0</td>\n",
       "      <td>2.0</td>\n",
       "      <td>38.00</td>\n",
       "    </tr>\n",
       "    <tr>\n",
       "      <th>6</th>\n",
       "      <td>2732.0</td>\n",
       "      <td>4.0</td>\n",
       "      <td>135.00</td>\n",
       "    </tr>\n",
       "    <tr>\n",
       "      <th>7</th>\n",
       "      <td>3300.0</td>\n",
       "      <td>4.0</td>\n",
       "      <td>155.00</td>\n",
       "    </tr>\n",
       "    <tr>\n",
       "      <th>8</th>\n",
       "      <td>3700.0</td>\n",
       "      <td>5.0</td>\n",
       "      <td>167.00</td>\n",
       "    </tr>\n",
       "    <tr>\n",
       "      <th>9</th>\n",
       "      <td>1800.0</td>\n",
       "      <td>3.0</td>\n",
       "      <td>82.00</td>\n",
       "    </tr>\n",
       "    <tr>\n",
       "      <th>10</th>\n",
       "      <td>2785.0</td>\n",
       "      <td>4.0</td>\n",
       "      <td>140.00</td>\n",
       "    </tr>\n",
       "    <tr>\n",
       "      <th>11</th>\n",
       "      <td>1000.0</td>\n",
       "      <td>2.0</td>\n",
       "      <td>38.00</td>\n",
       "    </tr>\n",
       "    <tr>\n",
       "      <th>12</th>\n",
       "      <td>1100.0</td>\n",
       "      <td>2.0</td>\n",
       "      <td>40.00</td>\n",
       "    </tr>\n",
       "    <tr>\n",
       "      <th>13</th>\n",
       "      <td>2250.0</td>\n",
       "      <td>3.0</td>\n",
       "      <td>101.00</td>\n",
       "    </tr>\n",
       "    <tr>\n",
       "      <th>14</th>\n",
       "      <td>1175.0</td>\n",
       "      <td>2.0</td>\n",
       "      <td>42.00</td>\n",
       "    </tr>\n",
       "    <tr>\n",
       "      <th>15</th>\n",
       "      <td>1180.0</td>\n",
       "      <td>3.0</td>\n",
       "      <td>48.00</td>\n",
       "    </tr>\n",
       "    <tr>\n",
       "      <th>16</th>\n",
       "      <td>1540.0</td>\n",
       "      <td>3.0</td>\n",
       "      <td>60.00</td>\n",
       "    </tr>\n",
       "    <tr>\n",
       "      <th>17</th>\n",
       "      <td>2770.0</td>\n",
       "      <td>3.0</td>\n",
       "      <td>102.00</td>\n",
       "    </tr>\n",
       "  </tbody>\n",
       "</table>\n",
       "</div>"
      ],
      "text/plain": [
       "      area  bedrooms   price\n",
       "0   1056.0       2.0   39.07\n",
       "1   2600.0       4.0  120.00\n",
       "2   1440.0       3.0   62.00\n",
       "3   1521.0       3.0   75.00\n",
       "4   1200.0       2.0   51.00\n",
       "5   1170.0       2.0   38.00\n",
       "6   2732.0       4.0  135.00\n",
       "7   3300.0       4.0  155.00\n",
       "8   3700.0       5.0  167.00\n",
       "9   1800.0       3.0   82.00\n",
       "10  2785.0       4.0  140.00\n",
       "11  1000.0       2.0   38.00\n",
       "12  1100.0       2.0   40.00\n",
       "13  2250.0       3.0  101.00\n",
       "14  1175.0       2.0   42.00\n",
       "15  1180.0       3.0   48.00\n",
       "16  1540.0       3.0   60.00\n",
       "17  2770.0       3.0  102.00"
      ]
     },
     "execution_count": 9,
     "metadata": {},
     "output_type": "execute_result"
    }
   ],
   "source": [
    "df =pd.read_csv(\"housing_data.csv\")\n",
    "df"
   ]
  },
  {
   "cell_type": "code",
   "execution_count": 12,
   "id": "5e650a18",
   "metadata": {},
   "outputs": [
    {
     "data": {
      "text/plain": [
       "array([[0.02074074, 0.        ],\n",
       "       [0.59259259, 0.66666667],\n",
       "       [0.16296296, 0.33333333],\n",
       "       [0.19296296, 0.33333333],\n",
       "       [0.07407407, 0.        ],\n",
       "       [0.06296296, 0.        ],\n",
       "       [0.64148148, 0.66666667],\n",
       "       [0.85185185, 0.66666667],\n",
       "       [1.        , 1.        ],\n",
       "       [0.2962963 , 0.33333333],\n",
       "       [0.66111111, 0.66666667],\n",
       "       [0.        , 0.        ],\n",
       "       [0.03703704, 0.        ],\n",
       "       [0.46296296, 0.33333333],\n",
       "       [0.06481481, 0.        ],\n",
       "       [0.06666667, 0.33333333],\n",
       "       [0.2       , 0.33333333],\n",
       "       [0.65555556, 0.33333333]])"
      ]
     },
     "execution_count": 12,
     "metadata": {},
     "output_type": "execute_result"
    }
   ],
   "source": [
    "from sklearn import preprocessing \n",
    "sx=preprocessing.MinMaxScaler()\n",
    "sy=preprocessing.MinMaxScaler()\n",
    "scaled_X=sx.fit_transform(df.drop('price',axis='columns'))\n",
    "scaled_X\n",
    "\n"
   ]
  },
  {
   "cell_type": "code",
   "execution_count": 13,
   "id": "d0ae0717",
   "metadata": {},
   "outputs": [
    {
     "data": {
      "text/plain": [
       "array([[0.00829457],\n",
       "       [0.63565891],\n",
       "       [0.18604651],\n",
       "       [0.28682171],\n",
       "       [0.10077519],\n",
       "       [0.        ],\n",
       "       [0.75193798],\n",
       "       [0.90697674],\n",
       "       [1.        ],\n",
       "       [0.34108527],\n",
       "       [0.79069767],\n",
       "       [0.        ],\n",
       "       [0.01550388],\n",
       "       [0.48837209],\n",
       "       [0.03100775],\n",
       "       [0.07751938],\n",
       "       [0.17054264],\n",
       "       [0.49612403]])"
      ]
     },
     "execution_count": 13,
     "metadata": {},
     "output_type": "execute_result"
    }
   ],
   "source": [
    "scaled_Y=sy.fit_transform(df['price'].values.reshape(df.shape[0],1))\n",
    "scaled_Y"
   ]
  },
  {
   "cell_type": "code",
   "execution_count": null,
   "id": "bba3f10b",
   "metadata": {},
   "outputs": [],
   "source": [
    "def batch_gradient_descent(X,y_true,epochs,learning_rate=0.01):\n",
    "    number_of_features=X.shape[1]\n",
    "    weights=np.ones(number_of_features)\n",
    "    b=0\n",
    "    total_samples=X.shape[0]\n",
    "    for i in range(epochs):\n",
    "        y_predicted=np.dot(weights,scaled_X.T)+b\n",
    "        w_grad=-(2/total_samples)*(X.T.dot(y_true-y_predicted))\n",
    "        b_grad=-(2/total_samples)*np.sum(y_true-y_predicted)"
   ]
  }
 ],
 "metadata": {
  "kernelspec": {
   "display_name": "Python 3",
   "language": "python",
   "name": "python3"
  },
  "language_info": {
   "codemirror_mode": {
    "name": "ipython",
    "version": 3
   },
   "file_extension": ".py",
   "mimetype": "text/x-python",
   "name": "python",
   "nbconvert_exporter": "python",
   "pygments_lexer": "ipython3",
   "version": "3.12.6"
  }
 },
 "nbformat": 4,
 "nbformat_minor": 5
}
